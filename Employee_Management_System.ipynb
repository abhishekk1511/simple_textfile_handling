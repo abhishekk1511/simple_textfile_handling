{
  "cells": [
    {
      "cell_type": "code",
      "execution_count": null,
      "metadata": {
        "colab": {
          "base_uri": "https://localhost:8080/"
        },
        "id": "tBxcG8hgRa_1",
        "outputId": "fa73b9e4-5ff6-4c3d-9768-ad0ad4b21a13"
      },
      "outputs": [
        {
          "name": "stdout",
          "output_type": "stream",
          "text": [
            "Mounted at /content/drive\n"
          ]
        }
      ],
      "source": [
        "from google.colab import drive\n",
        "drive.mount('/content/drive')"
      ]
    },
    {
      "cell_type": "code",
      "execution_count": null,
      "metadata": {
        "id": "22xT6ivrdz_8"
      },
      "outputs": [],
      "source": [
        "# Defining the file path for the employee data file\n",
        "employee_file_path = \"/content/drive/MyDrive/Python/Employee.txt\""
      ]
    },
    {
      "cell_type": "code",
      "execution_count": null,
      "metadata": {
        "colab": {
          "background_save": true,
          "base_uri": "https://localhost:8080/",
          "height": 478
        },
        "id": "vV4NgWVmPm3q",
        "outputId": "2e864a25-965d-400f-ac55-a3c6f290e6b1"
      },
      "outputs": [
        {
          "name": "stdout",
          "output_type": "stream",
          "text": [
            "Employee Management System Notepad\n",
            "1. Add Employee\n",
            "2. Remove Employee\n",
            "3. Display All Employees\n",
            "4. Exit\n",
            "\n",
            "Employees in Department: Analytics\n",
            "Name: Aarushi\n",
            "ID Number: BA003\n",
            "Salary: 60000\n",
            "Department ID: BA\n",
            "Working Since: 2022\n",
            "\n",
            "Name: Midun\n",
            "ID Number: BA0087\n",
            "Salary: 45000\n",
            "Department ID: BA\n",
            "Working Since: 2019\n",
            "\n",
            "Name: Abhishek\n",
            "ID Number: BA004\n",
            "Salary: 90000\n",
            "Department ID: BA\n",
            "Working Since: 2022\n",
            "\n",
            "Name: Rahul\n",
            "ID Number: BA00876\n",
            "Salary: 250000\n",
            "Department ID: BA\n",
            "Working Since: 2017\n",
            "\n",
            "Employee Management System Notepad\n",
            "1. Add Employee\n",
            "2. Remove Employee\n",
            "3. Display All Employees\n",
            "4. Exit\n",
            "\n"
          ]
        }
      ],
      "source": [
        "# Function to display the main menu\n",
        "def display_menu():\n",
        "    print(\"Employee Management System Notepad\")\n",
        "    print(\"1. Add Employee\")\n",
        "    print(\"2. Remove Employee\")\n",
        "    print(\"3. Display All Employees\")\n",
        "    print(\"4. Exit\")\n",
        "    print(\"\")\n",
        "\n",
        "# Function to add an employee\n",
        "def add_employee():\n",
        "    name = input(\"Enter employee name: \")\n",
        "    id_num = input(\"Enter employee ID number: \")\n",
        "    department = input(\"Enter employee department: \")\n",
        "    salary = input(\"Enter employee salary: \")\n",
        "    dept_id = input(\"Enter employee department ID: \")\n",
        "    working_since = input(\"Enter employee working since (year): \")\n",
        "    \n",
        "    # Opening the employee file for reading\n",
        "    with open(employee_file_path, \"r\") as f:\n",
        "        lines = f.readlines() \n",
        "\n",
        "    for line in lines:\n",
        "      if line.split(\",\")[1].lower() == id_num.lower():\n",
        "        print(\"Employee ID number already exists!\\n\")\n",
        "        return\n",
        "    \n",
        "    # Opening the employee file for appending\n",
        "    with open(employee_file_path, \"a\") as f:\n",
        "        # Writing the employee data to the file\n",
        "        f.write(name + \",\" + id_num + \",\" + department + \",\" + salary + \",\" + dept_id + \",\" + working_since + \"\\n\")\n",
        "        \n",
        "    print(\"Employee added successfully!\\n\")\n",
        "    \n",
        "# Function to remove an employee\n",
        "def remove_employee():\n",
        "    id_num = input(\"Enter employee ID number to remove: \").lower()\n",
        "    \n",
        "    # Opening the employee file for reading\n",
        "    with open(employee_file_path, \"r\") as f:\n",
        "        lines = f.readlines()\n",
        "        \n",
        "    # Checking if the ID number exists in the file\n",
        "    found_id = False\n",
        "    for line in lines:\n",
        "        if line.split(\",\")[1].lower() == id_num:\n",
        "            found_id = True\n",
        "            break\n",
        "            \n",
        "    # If the ID number is not found, display an error message\n",
        "    if not found_id:\n",
        "        print(\"Employee ID number not found!\\n\")\n",
        "        return\n",
        "        \n",
        "    # Opening the employee file for writing\n",
        "    with open(employee_file_path, \"w\") as f:\n",
        "        for line in lines:\n",
        "            # Check if the ID number matches\n",
        "            if line.split(\",\")[1].lower() != id_num:\n",
        "                # Write the line to the file\n",
        "                f.write(line)\n",
        "                \n",
        "    print(\"Employee removed successfully!\\n\")\n",
        "    \n",
        "# Function to display employees by department\n",
        "def display_employees_by_dept():\n",
        "    # Opening the employee file for reading\n",
        "    with open(employee_file_path, \"r\") as f:\n",
        "        lines = f.readlines()\n",
        "\n",
        "    # Checking if there are any lines in the file\n",
        "    if not lines:\n",
        "        print(\"No employee details found\\n\")\n",
        "        return\n",
        "    \n",
        "    # Create a dictionary to group employees by department\n",
        "    employees_by_dept = {}\n",
        "    for line in lines:\n",
        "        data = line.split(\",\")\n",
        "        dept = data[2]\n",
        "        if dept in employees_by_dept:\n",
        "            employees_by_dept[dept].append(data)\n",
        "        else:\n",
        "            employees_by_dept[dept] = [data]\n",
        "    \n",
        "    # Prompt the user to enter a department name\n",
        "    dept_name = input(\"Enter department name: \")\n",
        "    \n",
        "    # Check if the department name exists in the dictionary\n",
        "    if dept_name in employees_by_dept:\n",
        "        employees = employees_by_dept[dept_name]\n",
        "        print(\"Employees in Department:\", dept_name)\n",
        "        for employee in employees:\n",
        "            print(\"Name:\", employee[0])\n",
        "            print(\"ID Number:\", employee[1])\n",
        "            print(\"Salary:\", employee[3])\n",
        "            print(\"Department ID:\", employee[4])\n",
        "            print(\"Working Since:\", employee[5].strip())\n",
        "            print(\"\")\n",
        "    else:\n",
        "        print(\"Department not found!\\n\")\\\n",
        "# Main loop\n",
        "while True:\n",
        "    # Display the main menu\n",
        "    display_menu()\n",
        "    \n",
        "    # Getting the user's choice\n",
        "    choice = input(\"Enter your choice (1-4): \")\n",
        "    # Process the user's choice\n",
        "    if choice == \"1\":\n",
        "        add_employee()\n",
        "    elif choice == \"2\":\n",
        "        remove_employee()\n",
        "    elif choice == \"3\":\n",
        "        display_employees_by_dept()\n",
        "    elif choice == \"4\":\n",
        "        break\n",
        "    else:\n",
        "        print(\"Invalid choice. Please try again.\\n\")\n",
        "    \n",
        "# End of program\n",
        "print(\"Goodbye! Have a great day!!\")"
      ]
    }
  ],
  "metadata": {
    "colab": {
      "provenance": []
    },
    "kernelspec": {
      "display_name": "Python 3",
      "name": "python3"
    },
    "language_info": {
      "name": "python"
    }
  },
  "nbformat": 4,
  "nbformat_minor": 0
}